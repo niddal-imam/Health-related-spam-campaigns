{
 "cells": [
  {
   "cell_type": "code",
   "execution_count": 1,
   "metadata": {},
   "outputs": [
    {
     "data": {
      "text/html": [
       "<div>\n",
       "<style scoped>\n",
       "    .dataframe tbody tr th:only-of-type {\n",
       "        vertical-align: middle;\n",
       "    }\n",
       "\n",
       "    .dataframe tbody tr th {\n",
       "        vertical-align: top;\n",
       "    }\n",
       "\n",
       "    .dataframe thead th {\n",
       "        text-align: right;\n",
       "    }\n",
       "</style>\n",
       "<table border=\"1\" class=\"dataframe\">\n",
       "  <thead>\n",
       "    <tr style=\"text-align: right;\">\n",
       "      <th></th>\n",
       "      <th>description</th>\n",
       "      <th>label</th>\n",
       "    </tr>\n",
       "  </thead>\n",
       "  <tbody>\n",
       "    <tr>\n",
       "      <th>0</th>\n",
       "      <td>None</td>\n",
       "      <td>non_spam</td>\n",
       "    </tr>\n",
       "    <tr>\n",
       "      <th>1</th>\n",
       "      <td>الحياه بسيطه لماذا نصر على تعقيدها</td>\n",
       "      <td>non_spam</td>\n",
       "    </tr>\n",
       "  </tbody>\n",
       "</table>\n",
       "</div>"
      ],
      "text/plain": [
       "                          description     label\n",
       "0                                None  non_spam\n",
       "1  الحياه بسيطه لماذا نصر على تعقيدها  non_spam"
      ]
     },
     "execution_count": 1,
     "metadata": {},
     "output_type": "execute_result"
    }
   ],
   "source": [
    "import logging\n",
    "import pandas as pd\n",
    "import numpy as np\n",
    "from numpy import random\n",
    "import gensim\n",
    "import nltk\n",
    "from sklearn.model_selection import train_test_split\n",
    "from sklearn.feature_extraction.text import CountVectorizer, TfidfVectorizer\n",
    "from sklearn.metrics import accuracy_score, confusion_matrix\n",
    "import matplotlib.pyplot as plt\n",
    "from nltk.corpus import stopwords\n",
    "import re\n",
    "from bs4 import BeautifulSoup\n",
    "\n",
    "%matplotlib inline\n",
    "df_text = pd.read_csv (\"/home/niddal/Desktop/PhD_projects/Twitter_analysis/Datasets/MHC_Datasets/Final_ones/Full_Dataset_Text_desc.csv\")\n",
    "df_text.head(2)"
   ]
  },
  {
   "cell_type": "code",
   "execution_count": 2,
   "metadata": {},
   "outputs": [],
   "source": [
    "ham_df= df_text[df_text['label'] == 'non_spam']\n",
    "spam_df= df_text[df_text['label'] == 'spam']"
   ]
  },
  {
   "cell_type": "code",
   "execution_count": 3,
   "metadata": {},
   "outputs": [
    {
     "data": {
      "text/plain": [
       "(1990, 2)"
      ]
     },
     "execution_count": 3,
     "metadata": {},
     "output_type": "execute_result"
    }
   ],
   "source": [
    "ham_df.shape"
   ]
  },
  {
   "cell_type": "code",
   "execution_count": 4,
   "metadata": {},
   "outputs": [
    {
     "data": {
      "text/plain": [
       "(1988, 2)"
      ]
     },
     "execution_count": 4,
     "metadata": {},
     "output_type": "execute_result"
    }
   ],
   "source": [
    "ham_df= ham_df[pd.notnull(ham_df['description'])]\n",
    "ham_df.shape"
   ]
  },
  {
   "cell_type": "code",
   "execution_count": 5,
   "metadata": {},
   "outputs": [
    {
     "data": {
      "text/plain": [
       "(519, 2)"
      ]
     },
     "execution_count": 5,
     "metadata": {},
     "output_type": "execute_result"
    }
   ],
   "source": [
    "spam_df.shape"
   ]
  },
  {
   "cell_type": "code",
   "execution_count": 6,
   "metadata": {},
   "outputs": [
    {
     "data": {
      "text/plain": [
       "(519, 2)"
      ]
     },
     "execution_count": 6,
     "metadata": {},
     "output_type": "execute_result"
    }
   ],
   "source": [
    "spam_df= spam_df[pd.notnull(spam_df['description'])]\n",
    "spam_df.shape"
   ]
  },
  {
   "cell_type": "code",
   "execution_count": 7,
   "metadata": {},
   "outputs": [],
   "source": [
    "df_text_New = df_text[pd.notnull(df_text['description'])]"
   ]
  },
  {
   "cell_type": "code",
   "execution_count": 8,
   "metadata": {},
   "outputs": [
    {
     "data": {
      "text/plain": [
       "19675"
      ]
     },
     "execution_count": 8,
     "metadata": {},
     "output_type": "execute_result"
    }
   ],
   "source": [
    "df_text_New['description'].apply(lambda x: len(x.split(' '))).sum()"
   ]
  },
  {
   "cell_type": "code",
   "execution_count": 9,
   "metadata": {},
   "outputs": [
    {
     "data": {
      "image/png": "[encoded data removed]",
      "text/plain": [
       "<Figure size 720x288 with 1 Axes>"
      ]
     },
     "metadata": {
      "needs_background": "light"
     },
     "output_type": "display_data"
    }
   ],
   "source": [
    "my_tags = ['non_spam','spam']\n",
    "plt.figure(figsize=(10,4))\n",
    "df_text_New.label.value_counts().plot(kind='bar');"
   ]
  },
  {
   "cell_type": "code",
   "execution_count": 10,
   "metadata": {},
   "outputs": [],
   "source": [
    "def print_plot(index):\n",
    "    example = df_text_New[df_text_New.index == index][['label', 'description']].values[0]\n",
    "    if len(example) > 0:\n",
    "        print(example[0])\n",
    "        print('description:', example[1])"
   ]
  },
  {
   "cell_type": "code",
   "execution_count": 11,
   "metadata": {},
   "outputs": [
    {
     "name": "stdout",
     "output_type": "stream",
     "text": [
      "non_spam\n",
      "description: أحب الهلال ولا أحد يعلم مدى حبي له ...❤❤\n"
     ]
    }
   ],
   "source": [
    "print_plot(9)"
   ]
  },
  {
   "cell_type": "code",
   "execution_count": 12,
   "metadata": {},
   "outputs": [],
   "source": [
    "def remove_pattern(input_txt, pattern):\n",
    "    r = re.findall(pattern, input_txt)\n",
    "    for i in r:\n",
    "        input_txt = re.sub(i, '', input_txt)        \n",
    "    return input_txt"
   ]
  },
  {
   "cell_type": "code",
   "execution_count": 13,
   "metadata": {},
   "outputs": [],
   "source": [
    "def clean_tweets(lst):\n",
    "    # remove twitter Return handles (RT @xxx:)\n",
    "    lst = np.vectorize(remove_pattern)(lst, \"RT @[\\w]*:\")\n",
    "    # remove twitter handles (@xxx)\n",
    "    lst = np.vectorize(remove_pattern)(lst, \"@[\\w]*\")\n",
    "    # remove URL links (httpxxx)\n",
    "    lst = np.vectorize(remove_pattern)(lst, \"https?://[A-Za-z0-9./]*\")\n",
    "    # remove special characters, numbers, punctuations (except for #)\n",
    "    lst = np.core.defchararray.replace(lst, \"[^a-zA-Z#]\", \" \")\n",
    "\n",
    "    return lst"
   ]
  },
  {
   "cell_type": "code",
   "execution_count": 14,
   "metadata": {},
   "outputs": [],
   "source": [
    "from stop_words import get_stop_words\n",
    "stop_words = get_stop_words('arabic')"
   ]
  },
  {
   "cell_type": "code",
   "execution_count": 15,
   "metadata": {},
   "outputs": [
    {
     "name": "stderr",
     "output_type": "stream",
     "text": [
      "<ipython-input-15-73fc120d8790>:1: SettingWithCopyWarning: \n",
      "A value is trying to be set on a copy of a slice from a DataFrame.\n",
      "Try using .loc[row_indexer,col_indexer] = value instead\n",
      "\n",
      "See the caveats in the documentation: https://pandas.pydata.org/pandas-docs/stable/user_guide/indexing.html#returning-a-view-versus-a-copy\n",
      "  df_text_New['description']= clean_tweets(df_text_New['description'])\n"
     ]
    }
   ],
   "source": [
    "df_text_New['description']= clean_tweets(df_text_New['description'])\n"
   ]
  },
  {
   "cell_type": "code",
   "execution_count": 16,
   "metadata": {},
   "outputs": [],
   "source": [
    "import string\n",
    "from nltk.tokenize import word_tokenize\n",
    "from nltk.corpus import stopwords\n",
    "from stop_words import get_stop_words\n",
    "\n",
    "\n",
    "tweet_lines = list()\n",
    "lines = df_text_New['description'].values.tolist()\n",
    "\n",
    "for line in lines:   \n",
    "    tokens = word_tokenize(line)\n",
    "    # convert to lower case\n",
    "    tokens = [w.lower() for w in tokens]\n",
    "    # remove punctuation from each word    \n",
    "    #table = str.maketrans('', '', string.punctuation)\n",
    "    table = str.maketrans(string.punctuation, ' '*len(string.punctuation))\n",
    "    stripped = [w.translate(table) for w in tokens]\n",
    "    # remove remaining tokens that are not alphabetic\n",
    "    words = [word for word in stripped if word.isalpha()]\n",
    "    # filter out stop words    \n",
    "    #stop_words = set(stopwords.words('english'))\n",
    "    stop_words = get_stop_words('arabic')\n",
    "    words = [w for w in words if not w in stop_words]\n",
    "    tweet_lines.append(words)"
   ]
  },
  {
   "cell_type": "code",
   "execution_count": 17,
   "metadata": {},
   "outputs": [
    {
     "data": {
      "text/plain": [
       "19675"
      ]
     },
     "execution_count": 17,
     "metadata": {},
     "output_type": "execute_result"
    }
   ],
   "source": [
    "df_text_New['description'].apply(lambda x: len(x.split(' '))).sum()"
   ]
  },
  {
   "cell_type": "code",
   "execution_count": 16,
   "metadata": {},
   "outputs": [],
   "source": [
    "\n",
    "from matplotlib import pyplot as plt\n",
    "%matplotlib inline\n",
    "from gensim.models import KeyedVectors\n",
    "def load_w2v(filepath,binary):\n",
    "    return KeyedVectors.load_word2vec_format(filepath, binary=binary)"
   ]
  },
  {
   "cell_type": "code",
   "execution_count": 66,
   "metadata": {},
   "outputs": [
    {
     "name": "stdout",
     "output_type": "stream",
     "text": [
      "CPU times: user 18.1 s, sys: 373 ms, total: 18.4 s\n",
      "Wall time: 18.4 s\n"
     ]
    },
    {
     "name": "stderr",
     "output_type": "stream",
     "text": [
      "/home/niddal/.local/lib/python3.6/site-packages/gensim/models/keyedvectors.py:2372: RuntimeWarning: overflow encountered in square\n",
      "  dist = sqrt((m ** 2).sum(-1))[..., newaxis]\n"
     ]
    }
   ],
   "source": [
    "%%time\n",
    "from gensim.models import Word2Vec\n",
    "\n",
    "wv = gensim.models.KeyedVectors.load_word2vec_format(\"/home/niddal/Desktop/PhD_projects/sentiment-analysis-arabic-master/wiki.ar.vec\", binary=True, encoding = 'unicode_escape')\n",
    "wv.init_sims(replace=True)"
   ]
  },
  {
   "cell_type": "markdown",
   "metadata": {},
   "source": [
    "# Doc2vec and RF"
   ]
  },
  {
   "cell_type": "code",
   "execution_count": 13,
   "metadata": {},
   "outputs": [
    {
     "name": "stderr",
     "output_type": "stream",
     "text": [
      "/home/niddal/anaconda3/envs/py2/lib/python3.8/site-packages/tqdm/std.py:668: FutureWarning: The Panel class is removed from pandas. Accessing it from the top-level namespace will also be removed in the next version\n",
      "  from pandas import Panel\n"
     ]
    }
   ],
   "source": [
    "from tqdm import tqdm\n",
    "tqdm.pandas(desc=\"progress-bar\")\n",
    "from gensim.models import doc2vec\n",
    "from sklearn import utils\n",
    "import gensim\n",
    "from gensim.models.doc2vec import TaggedDocument\n",
    "import re"
   ]
  },
  {
   "cell_type": "code",
   "execution_count": 14,
   "metadata": {},
   "outputs": [],
   "source": [
    "def label_sentences(corpus, label_type):\n",
    "    \"\"\"\n",
    "    Gensim's Doc2Vec implementation requires each document/paragraph to have a label associated with it.\n",
    "    We do this by using the TaggedDocument method. The format will be \"TRAIN_i\" or \"TEST_i\" where \"i\" is\n",
    "    a dummy index of the post.\n",
    "    \"\"\"\n",
    "    labeled = []\n",
    "    for i, v in enumerate(corpus):\n",
    "        label = label_type + '_' + str(i)\n",
    "        labeled.append(doc2vec.TaggedDocument(v.split(), [label]))\n",
    "    return labeled"
   ]
  },
  {
   "cell_type": "code",
   "execution_count": 15,
   "metadata": {},
   "outputs": [],
   "source": [
    "X_train, X_test, y_train, y_test = train_test_split(df_text_New.description, df_text_New.label, random_state=0, test_size=0.3)\n",
    "X_train = label_sentences(X_train, 'Train')\n",
    "X_test = label_sentences(X_test, 'Test')\n",
    "all_data = X_train + X_test"
   ]
  },
  {
   "cell_type": "code",
   "execution_count": 16,
   "metadata": {},
   "outputs": [
    {
     "data": {
      "text/plain": [
       "[TaggedDocument(words=['\\u200f\"أنا', 'أطهر', 'منّهم', 'وأجمل..💎'], tags=['Train_0']),\n",
       " TaggedDocument(words=['\\u200f\\u200f\\u200f\\u200f\\u200e'], tags=['Train_1']),\n",
       " TaggedDocument(words=['None'], tags=['Train_2']),\n",
       " TaggedDocument(words=['هاشتاقك', 'ترند', 'من', 'الاوائل', 'اتصل', 'او', 'واتساب', '0568858659', 'للدخول', 'مباشرة', 'للمحادثة', 'بالواتس👈🏻', 'https://api.whatsapp.com/send?phone=966568858659'], tags=['Train_3']),\n",
       " TaggedDocument(words=['قويه', 'كالحرب', 'ناعمه', 'كالسلام'], tags=['Train_4']),\n",
       " TaggedDocument(words=['#صحيفة_المواطن', '..', 'للوطن', 'والمواطن🇸🇦', '📧:almowaten@almowaten.net', '0114615424/104:☎️'], tags=['Train_5']),\n",
       " TaggedDocument(words=['None'], tags=['Train_6']),\n",
       " TaggedDocument(words=['None'], tags=['Train_7']),\n",
       " TaggedDocument(words=['\\u200fخذنّي', 'علىْ', 'قول', '[', 'البدو', ']', '[', 'بِ/', 'كِل', 'إللي', 'تبآ', ']', 'إختَرتك', 'إنت', '..', 'وبآقي', 'كِل', 'النآسْ', 'في', 'عيني', '[', 'تهبأ', ']', '~'], tags=['Train_8']),\n",
       " TaggedDocument(words=['عملائنا', 'الكرام', 'تعطل', 'حساب', 'متجرنا', 'السابق', 'نرجو', 'دعم', 'متجرنا', 'الجديد💥متجر', 'متكامل', 'يلبي', 'احتياجاتكم', 'باقل', 'الاسعار', '🌝', 'واتس', 'اب', '0505953793✨'], tags=['Train_9'])]"
      ]
     },
     "execution_count": 16,
     "metadata": {},
     "output_type": "execute_result"
    }
   ],
   "source": [
    "all_data[:10]"
   ]
  },
  {
   "cell_type": "code",
   "execution_count": 17,
   "metadata": {},
   "outputs": [
    {
     "name": "stderr",
     "output_type": "stream",
     "text": [
      "100%|██████████| 2507/2507 [00:00<00:00, 2729781.96it/s]\n"
     ]
    }
   ],
   "source": [
    "from gensim.models import Doc2Vec\n",
    "\n",
    "model_dbow = Doc2Vec(dm=0, vector_size=300, negative=5, min_count=1, alpha=0.065, min_alpha=0.065)\n",
    "model_dbow.build_vocab([x for x in tqdm(all_data)])"
   ]
  },
  {
   "cell_type": "code",
   "execution_count": 23,
   "metadata": {},
   "outputs": [
    {
     "name": "stderr",
     "output_type": "stream",
     "text": [
      "100%|██████████| 2507/2507 [00:00<00:00, 3204852.22it/s]\n",
      "100%|██████████| 2507/2507 [00:00<00:00, 3837635.08it/s]\n",
      "100%|██████████| 2507/2507 [00:00<00:00, 3867274.78it/s]\n",
      "100%|██████████| 2507/2507 [00:00<00:00, 4332558.77it/s]\n",
      "100%|██████████| 2507/2507 [00:00<00:00, 1339335.13it/s]\n",
      "100%|██████████| 2507/2507 [00:00<00:00, 3880118.13it/s]\n",
      "100%|██████████| 2507/2507 [00:00<00:00, 3455511.05it/s]\n",
      "100%|██████████| 2507/2507 [00:00<00:00, 4421833.53it/s]\n",
      "100%|██████████| 2507/2507 [00:00<00:00, 4104262.35it/s]\n",
      "100%|██████████| 2507/2507 [00:00<00:00, 2909551.78it/s]\n",
      "100%|██████████| 2507/2507 [00:00<00:00, 2530714.83it/s]\n",
      "100%|██████████| 2507/2507 [00:00<00:00, 3343440.42it/s]\n",
      "100%|██████████| 2507/2507 [00:00<00:00, 2355010.11it/s]\n",
      "100%|██████████| 2507/2507 [00:00<00:00, 3295242.91it/s]\n",
      "100%|██████████| 2507/2507 [00:00<00:00, 3385421.81it/s]\n",
      "100%|██████████| 2507/2507 [00:00<00:00, 3428470.86it/s]\n",
      "100%|██████████| 2507/2507 [00:00<00:00, 2614400.83it/s]\n",
      "100%|██████████| 2507/2507 [00:00<00:00, 3932356.07it/s]\n",
      "100%|██████████| 2507/2507 [00:00<00:00, 3898820.96it/s]\n",
      "100%|██████████| 2507/2507 [00:00<00:00, 3853103.75it/s]\n",
      "100%|██████████| 2507/2507 [00:00<00:00, 2575972.59it/s]\n",
      "100%|██████████| 2507/2507 [00:00<00:00, 1829034.64it/s]\n",
      "100%|██████████| 2507/2507 [00:00<00:00, 3369150.95it/s]\n",
      "100%|██████████| 2507/2507 [00:00<00:00, 2626809.92it/s]\n",
      "100%|██████████| 2507/2507 [00:00<00:00, 4431150.50it/s]\n",
      "100%|██████████| 2507/2507 [00:00<00:00, 2503004.08it/s]\n",
      "100%|██████████| 2507/2507 [00:00<00:00, 3345567.97it/s]\n",
      "100%|██████████| 2507/2507 [00:00<00:00, 2636690.10it/s]\n",
      "100%|██████████| 2507/2507 [00:00<00:00, 3435191.16it/s]\n",
      "100%|██████████| 2507/2507 [00:00<00:00, 3705116.32it/s]\n"
     ]
    }
   ],
   "source": [
    "for epoch in range(30):\n",
    "    model_dbow.train(utils.shuffle([x for x in tqdm(all_data)]), total_examples=len(all_data), epochs=1)\n",
    "    model_dbow.alpha -= 0.002\n",
    "    model_dbow.min_alpha = model_dbow.alpha"
   ]
  },
  {
   "cell_type": "code",
   "execution_count": 24,
   "metadata": {},
   "outputs": [],
   "source": [
    "def get_vectors(model, corpus_size, vectors_size, vectors_type):\n",
    "    \"\"\"\n",
    "    Get vectors from trained doc2vec model\n",
    "    :param doc2vec_model: Trained Doc2Vec model\n",
    "    :param corpus_size: Size of the data\n",
    "    :param vectors_size: Size of the embedding vectors\n",
    "    :param vectors_type: Training or Testing vectors\n",
    "    :return: list of vectors\n",
    "    \"\"\"\n",
    "    vectors = np.zeros((corpus_size, vectors_size))\n",
    "    for i in range(0, corpus_size):\n",
    "        prefix = vectors_type + '_' + str(i)\n",
    "        vectors[i] = model.docvecs[prefix]\n",
    "    return vectors"
   ]
  },
  {
   "cell_type": "code",
   "execution_count": 25,
   "metadata": {},
   "outputs": [],
   "source": [
    "train_vectors_dbow = get_vectors(model_dbow, len(X_train), 300, 'Train')\n",
    "test_vectors_dbow = get_vectors(model_dbow, len(X_test), 300, 'Test')"
   ]
  },
  {
   "cell_type": "code",
   "execution_count": 26,
   "metadata": {},
   "outputs": [
    {
     "data": {
      "text/plain": [
       "RandomForestClassifier()"
      ]
     },
     "execution_count": 26,
     "metadata": {},
     "output_type": "execute_result"
    }
   ],
   "source": [
    "from sklearn.ensemble import RandomForestClassifier\n",
    "#from sklearn.linear_model import LogisticRegression\n",
    "from sklearn.metrics import classification_report\n",
    "\n",
    "#logreg = LogisticRegression(n_jobs=1, C=1e5)\n",
    "clf_rf = RandomForestClassifier()\n",
    "clf_rf.fit(train_vectors_dbow, y_train)"
   ]
  },
  {
   "cell_type": "code",
   "execution_count": 27,
   "metadata": {},
   "outputs": [],
   "source": [
    "logreg = clf_rf.fit(train_vectors_dbow, y_train)\n",
    "y_pred = clf_rf.predict(test_vectors_dbow)"
   ]
  },
  {
   "cell_type": "code",
   "execution_count": 28,
   "metadata": {},
   "outputs": [
    {
     "name": "stdout",
     "output_type": "stream",
     "text": [
      "accuracy 0.8950863213811421\n",
      "              precision    recall  f1-score   support\n",
      "\n",
      "    non_spam       0.89      1.00      0.94       607\n",
      "        spam       0.99      0.47      0.63       146\n",
      "\n",
      "    accuracy                           0.90       753\n",
      "   macro avg       0.94      0.73      0.79       753\n",
      "weighted avg       0.91      0.90      0.88       753\n",
      "\n"
     ]
    }
   ],
   "source": [
    "print('accuracy %s' % accuracy_score(y_pred, y_test))\n",
    "print(classification_report(y_test, y_pred,target_names=my_tags))"
   ]
  },
  {
   "cell_type": "code",
   "execution_count": 31,
   "metadata": {},
   "outputs": [],
   "source": [
    "#string = 'ضيع وقتك وأنت تبحث عن سالفة الهاشتاق؟! تابع حسابنا وبتلقى السالفة أول بأول. الحساب الاحتياطي للتواصل والإعلان: Salfhtagads@gmail.com'\n",
    "string = ' ليس الجميع يستحق إحترامك فهناك من يستحق تجاهلك'\n",
    "\n",
    "lists= string.split(' ')\n",
    "inferred_vector=model_dbow.infer_vector(doc_words=lists,alpha=0.025,steps=500)\n",
    "ddf = pd.DataFrame(columns=['tag', 'd2v_Vec'])\n",
    "ddf.loc[0,'d2v_Vec']=list(inferred_vector)"
   ]
  },
  {
   "cell_type": "code",
   "execution_count": 32,
   "metadata": {},
   "outputs": [
    {
     "name": "stdout",
     "output_type": "stream",
     "text": [
      "prediction : ['non_spam']\n"
     ]
    }
   ],
   "source": [
    "predict=clf_rf.predict(list(ddf['d2v_Vec']))\n",
    "print(\"prediction :\", predict)"
   ]
  },
  {
   "cell_type": "code",
   "execution_count": null,
   "metadata": {},
   "outputs": [],
   "source": []
  }
 ],
 "metadata": {
  "kernelspec": {
   "display_name": "Python 3",
   "language": "python",
   "name": "python3"
  },
  "language_info": {
   "codemirror_mode": {
    "name": "ipython",
    "version": 3
   },
   "file_extension": ".py",
   "mimetype": "text/x-python",
   "name": "python",
   "nbconvert_exporter": "python",
   "pygments_lexer": "ipython3",
   "version": "3.8.3"
  }
 },
 "nbformat": 4,
 "nbformat_minor": 2
}
